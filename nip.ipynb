{
 "cells": [
  {
   "cell_type": "code",
   "execution_count": 10,
   "metadata": {},
   "outputs": [
    {
     "data": {
      "text/plain": [
       "'Dungeons & Dragons (D&D) is a tabletop role-playing game (TTRPG) where players collaboratively create and tell a fantasy story. Players take on the roles of adventurers, making choices that shape the narrative and interact with a world created by a Dungeon Master (DM). The DM acts as a storyteller, referee, and narrator, describing the environment and controlling non-player characters (NPCs) and monsters. '"
      ]
     },
     "execution_count": 10,
     "metadata": {},
     "output_type": "execute_result"
    }
   ],
   "source": [
    "import numpy as np\n",
    "import nltk\n",
    "\n",
    "f = open('sentence.txt', 'r', errors='ignore')\n",
    "raw_code = f.read()\n",
    "raw_code"
   ]
  },
  {
   "cell_type": "code",
   "execution_count": 11,
   "metadata": {},
   "outputs": [
    {
     "data": {
      "text/plain": [
       "'dungeons & dragons (d&d) is a tabletop role-playing game (ttrpg) where players collaboratively create and tell a fantasy story. players take on the roles of adventurers, making choices that shape the narrative and interact with a world created by a dungeon master (dm). the dm acts as a storyteller, referee, and narrator, describing the environment and controlling non-player characters (npcs) and monsters. '"
      ]
     },
     "execution_count": 11,
     "metadata": {},
     "output_type": "execute_result"
    }
   ],
   "source": [
    "raw_code = raw_code.lower()\n",
    "raw_code"
   ]
  },
  {
   "cell_type": "code",
   "execution_count": 13,
   "metadata": {},
   "outputs": [
    {
     "name": "stderr",
     "output_type": "stream",
     "text": [
      "[nltk_data] Downloading package punkt_tab to\n",
      "[nltk_data]     C:\\Users\\arkan\\AppData\\Roaming\\nltk_data...\n",
      "[nltk_data]   Unzipping tokenizers\\punkt_tab.zip.\n",
      "[nltk_data] Downloading package wordnet to\n",
      "[nltk_data]     C:\\Users\\arkan\\AppData\\Roaming\\nltk_data...\n",
      "[nltk_data]   Package wordnet is already up-to-date!\n"
     ]
    },
    {
     "data": {
      "text/plain": [
       "['dungeons',\n",
       " '&',\n",
       " 'dragons',\n",
       " '(',\n",
       " 'd',\n",
       " '&',\n",
       " 'd',\n",
       " ')',\n",
       " 'is',\n",
       " 'a',\n",
       " 'tabletop',\n",
       " 'role-playing',\n",
       " 'game',\n",
       " '(',\n",
       " 'ttrpg',\n",
       " ')',\n",
       " 'where',\n",
       " 'players',\n",
       " 'collaboratively',\n",
       " 'create',\n",
       " 'and',\n",
       " 'tell',\n",
       " 'a',\n",
       " 'fantasy',\n",
       " 'story',\n",
       " '.',\n",
       " 'players',\n",
       " 'take',\n",
       " 'on',\n",
       " 'the',\n",
       " 'roles',\n",
       " 'of',\n",
       " 'adventurers',\n",
       " ',',\n",
       " 'making',\n",
       " 'choices',\n",
       " 'that',\n",
       " 'shape',\n",
       " 'the',\n",
       " 'narrative',\n",
       " 'and',\n",
       " 'interact',\n",
       " 'with',\n",
       " 'a',\n",
       " 'world',\n",
       " 'created',\n",
       " 'by',\n",
       " 'a',\n",
       " 'dungeon',\n",
       " 'master',\n",
       " '(',\n",
       " 'dm',\n",
       " ')',\n",
       " '.',\n",
       " 'the',\n",
       " 'dm',\n",
       " 'acts',\n",
       " 'as',\n",
       " 'a',\n",
       " 'storyteller',\n",
       " ',',\n",
       " 'referee',\n",
       " ',',\n",
       " 'and',\n",
       " 'narrator',\n",
       " ',',\n",
       " 'describing',\n",
       " 'the',\n",
       " 'environment',\n",
       " 'and',\n",
       " 'controlling',\n",
       " 'non-player',\n",
       " 'characters',\n",
       " '(',\n",
       " 'npcs',\n",
       " ')',\n",
       " 'and',\n",
       " 'monsters',\n",
       " '.']"
      ]
     },
     "execution_count": 13,
     "metadata": {},
     "output_type": "execute_result"
    }
   ],
   "source": [
    "from nltk.tokenize import sent_tokenize, word_tokenize\n",
    "nltk.download('punkt_tab')\n",
    "nltk.download('wordnet')\n",
    "\n",
    "segment = nltk.sent_tokenize(raw_code)\n",
    "word_tokens = nltk.word_tokenize(raw_code)\n",
    "\n",
    "segment\n",
    "word_tokens"
   ]
  },
  {
   "cell_type": "code",
   "execution_count": 15,
   "metadata": {},
   "outputs": [
    {
     "data": {
      "text/plain": [
       "['dungeons',\n",
       " 'dragons',\n",
       " 'd',\n",
       " 'd',\n",
       " 'is',\n",
       " 'a',\n",
       " 'tabletop',\n",
       " 'roleplaying',\n",
       " 'game',\n",
       " 'ttrpg',\n",
       " 'where',\n",
       " 'players',\n",
       " 'collaboratively',\n",
       " 'create',\n",
       " 'and',\n",
       " 'tell',\n",
       " 'a',\n",
       " 'fantasy',\n",
       " 'story',\n",
       " 'players',\n",
       " 'take',\n",
       " 'on',\n",
       " 'the',\n",
       " 'roles',\n",
       " 'of',\n",
       " 'adventurers',\n",
       " 'making',\n",
       " 'choices',\n",
       " 'that',\n",
       " 'shape',\n",
       " 'the',\n",
       " 'narrative',\n",
       " 'and',\n",
       " 'interact',\n",
       " 'with',\n",
       " 'a',\n",
       " 'world',\n",
       " 'created',\n",
       " 'by',\n",
       " 'a',\n",
       " 'dungeon',\n",
       " 'master',\n",
       " 'dm',\n",
       " 'the',\n",
       " 'dm',\n",
       " 'acts',\n",
       " 'as',\n",
       " 'a',\n",
       " 'storyteller',\n",
       " 'referee',\n",
       " 'and',\n",
       " 'narrator',\n",
       " 'describing',\n",
       " 'the',\n",
       " 'environment',\n",
       " 'and',\n",
       " 'controlling',\n",
       " 'nonplayer',\n",
       " 'characters',\n",
       " 'npcs',\n",
       " 'and',\n",
       " 'monsters']"
      ]
     },
     "execution_count": 15,
     "metadata": {},
     "output_type": "execute_result"
    }
   ],
   "source": [
    "import re\n",
    "clean_data = []\n",
    "for words in word_tokens:\n",
    "    item = []\n",
    "    result = re.sub(r\"[^\\w\\s]\", \"\", words)\n",
    "    if result != \"\":\n",
    "        clean_data.append(result)\n",
    "        \n",
    "clean_data"
   ]
  },
  {
   "cell_type": "code",
   "execution_count": 19,
   "metadata": {},
   "outputs": [
    {
     "name": "stdout",
     "output_type": "stream",
     "text": [
      "['a', 'about', 'above', 'after', 'again', 'against', 'ain', 'all', 'am', 'an', 'and', 'any', 'are', 'aren', \"aren't\", 'as', 'at', 'be', 'because', 'been', 'before', 'being', 'below', 'between', 'both', 'but', 'by', 'can', 'couldn', \"couldn't\", 'd', 'did', 'didn', \"didn't\", 'do', 'does', 'doesn', \"doesn't\", 'doing', 'don', \"don't\", 'down', 'during', 'each', 'few', 'for', 'from', 'further', 'had', 'hadn', \"hadn't\", 'has', 'hasn', \"hasn't\", 'have', 'haven', \"haven't\", 'having', 'he', \"he'd\", \"he'll\", 'her', 'here', 'hers', 'herself', \"he's\", 'him', 'himself', 'his', 'how', 'i', \"i'd\", 'if', \"i'll\", \"i'm\", 'in', 'into', 'is', 'isn', \"isn't\", 'it', \"it'd\", \"it'll\", \"it's\", 'its', 'itself', \"i've\", 'just', 'll', 'm', 'ma', 'me', 'mightn', \"mightn't\", 'more', 'most', 'mustn', \"mustn't\", 'my', 'myself', 'needn', \"needn't\", 'no', 'nor', 'not', 'now', 'o', 'of', 'off', 'on', 'once', 'only', 'or', 'other', 'our', 'ours', 'ourselves', 'out', 'over', 'own', 're', 's', 'same', 'shan', \"shan't\", 'she', \"she'd\", \"she'll\", \"she's\", 'should', 'shouldn', \"shouldn't\", \"should've\", 'so', 'some', 'such', 't', 'than', 'that', \"that'll\", 'the', 'their', 'theirs', 'them', 'themselves', 'then', 'there', 'these', 'they', \"they'd\", \"they'll\", \"they're\", \"they've\", 'this', 'those', 'through', 'to', 'too', 'under', 'until', 'up', 've', 'very', 'was', 'wasn', \"wasn't\", 'we', \"we'd\", \"we'll\", \"we're\", 'were', 'weren', \"weren't\", \"we've\", 'what', 'when', 'where', 'which', 'while', 'who', 'whom', 'why', 'will', 'with', 'won', \"won't\", 'wouldn', \"wouldn't\", 'y', 'you', \"you'd\", \"you'll\", 'your', \"you're\", 'yours', 'yourself', 'yourselves', \"you've\"]\n"
     ]
    },
    {
     "name": "stderr",
     "output_type": "stream",
     "text": [
      "[nltk_data] Downloading package stopwords to\n",
      "[nltk_data]     C:\\Users\\arkan\\AppData\\Roaming\\nltk_data...\n",
      "[nltk_data]   Package stopwords is already up-to-date!\n"
     ]
    }
   ],
   "source": [
    "nltk.download('stopwords')\n",
    "from nltk.corpus import stopwords\n",
    "\n",
    "print(stopwords.words('english'))"
   ]
  },
  {
   "cell_type": "code",
   "execution_count": 21,
   "metadata": {},
   "outputs": [
    {
     "data": {
      "text/plain": [
       "['dungeons',\n",
       " 'dragons',\n",
       " 'tabletop',\n",
       " 'roleplaying',\n",
       " 'game',\n",
       " 'ttrpg',\n",
       " 'players',\n",
       " 'collaboratively',\n",
       " 'create',\n",
       " 'tell',\n",
       " 'fantasy',\n",
       " 'story',\n",
       " 'players',\n",
       " 'take',\n",
       " 'roles',\n",
       " 'adventurers',\n",
       " 'making',\n",
       " 'choices',\n",
       " 'shape',\n",
       " 'narrative',\n",
       " 'interact',\n",
       " 'world',\n",
       " 'created',\n",
       " 'dungeon',\n",
       " 'master',\n",
       " 'dm',\n",
       " 'dm',\n",
       " 'acts',\n",
       " 'storyteller',\n",
       " 'referee',\n",
       " 'narrator',\n",
       " 'describing',\n",
       " 'environment',\n",
       " 'controlling',\n",
       " 'nonplayer',\n",
       " 'characters',\n",
       " 'npcs',\n",
       " 'monsters']"
      ]
     },
     "execution_count": 21,
     "metadata": {},
     "output_type": "execute_result"
    }
   ],
   "source": [
    "clean_data_1 = []\n",
    "for words in clean_data:\n",
    "    if not words in stopwords.words('english'):\n",
    "        clean_data_1.append(words)\n",
    "        \n",
    "clean_data_1"
   ]
  },
  {
   "cell_type": "code",
   "execution_count": 22,
   "metadata": {},
   "outputs": [
    {
     "data": {
      "text/plain": [
       "['dungeon',\n",
       " 'dragon',\n",
       " 'tabletop',\n",
       " 'roleplay',\n",
       " 'game',\n",
       " 'ttrpg',\n",
       " 'player',\n",
       " 'collabor',\n",
       " 'creat',\n",
       " 'tell',\n",
       " 'fantasi',\n",
       " 'stori',\n",
       " 'player',\n",
       " 'take',\n",
       " 'role',\n",
       " 'adventur',\n",
       " 'make',\n",
       " 'choic',\n",
       " 'shape',\n",
       " 'narr',\n",
       " 'interact',\n",
       " 'world',\n",
       " 'creat',\n",
       " 'dungeon',\n",
       " 'master',\n",
       " 'dm',\n",
       " 'dm',\n",
       " 'act',\n",
       " 'storytel',\n",
       " 'refere',\n",
       " 'narrat',\n",
       " 'describ',\n",
       " 'environ',\n",
       " 'control',\n",
       " 'nonplay',\n",
       " 'charact',\n",
       " 'npc',\n",
       " 'monster']"
      ]
     },
     "execution_count": 22,
     "metadata": {},
     "output_type": "execute_result"
    }
   ],
   "source": [
    "from nltk.stem import PorterStemmer\n",
    "stemmer = PorterStemmer()\n",
    "stemmed_data = [stemmer.stem(word) for word in clean_data_1]\n",
    "stemmed_data"
   ]
  },
  {
   "cell_type": "code",
   "execution_count": 23,
   "metadata": {},
   "outputs": [
    {
     "name": "stderr",
     "output_type": "stream",
     "text": [
      "[nltk_data] Downloading package wordnet to\n",
      "[nltk_data]     C:\\Users\\arkan\\AppData\\Roaming\\nltk_data...\n",
      "[nltk_data]   Package wordnet is already up-to-date!\n"
     ]
    },
    {
     "data": {
      "text/plain": [
       "['dungeon',\n",
       " 'dragon',\n",
       " 'tabletop',\n",
       " 'roleplaying',\n",
       " 'game',\n",
       " 'ttrpg',\n",
       " 'player',\n",
       " 'collaboratively',\n",
       " 'create',\n",
       " 'tell',\n",
       " 'fantasy',\n",
       " 'story',\n",
       " 'player',\n",
       " 'take',\n",
       " 'role',\n",
       " 'adventurer',\n",
       " 'making',\n",
       " 'choice',\n",
       " 'shape',\n",
       " 'narrative',\n",
       " 'interact',\n",
       " 'world',\n",
       " 'created',\n",
       " 'dungeon',\n",
       " 'master',\n",
       " 'dm',\n",
       " 'dm',\n",
       " 'act',\n",
       " 'storyteller',\n",
       " 'referee',\n",
       " 'narrator',\n",
       " 'describing',\n",
       " 'environment',\n",
       " 'controlling',\n",
       " 'nonplayer',\n",
       " 'character',\n",
       " 'npc',\n",
       " 'monster']"
      ]
     },
     "execution_count": 23,
     "metadata": {},
     "output_type": "execute_result"
    }
   ],
   "source": [
    "from nltk.stem.wordnet import WordNetLemmatizer\n",
    "import nltk\n",
    "lemmer = nltk.stem.WordNetLemmatizer()\n",
    "nltk.download('wordnet')\n",
    "lemma_data = []\n",
    "for word in clean_data_1:\n",
    "    lemma_data.append(lemmer.lemmatize(word))\n",
    "\n",
    "lemma_data"
   ]
  },
  {
   "cell_type": "code",
   "execution_count": 26,
   "metadata": {},
   "outputs": [
    {
     "name": "stderr",
     "output_type": "stream",
     "text": [
      "[nltk_data] Downloading package averaged_perceptron_tagger_eng to\n",
      "[nltk_data]     C:\\Users\\arkan\\AppData\\Roaming\\nltk_data...\n",
      "[nltk_data]   Unzipping taggers\\averaged_perceptron_tagger_eng.zip.\n"
     ]
    },
    {
     "data": {
      "text/plain": [
       "[('dungeon', 'NN'),\n",
       " ('dragon', 'NN'),\n",
       " ('tabletop', 'NN'),\n",
       " ('roleplaying', 'VBG'),\n",
       " ('game', 'NN'),\n",
       " ('ttrpg', 'NN'),\n",
       " ('player', 'NN'),\n",
       " ('collaboratively', 'RB'),\n",
       " ('create', 'VBP'),\n",
       " ('tell', 'JJ'),\n",
       " ('fantasy', 'JJ'),\n",
       " ('story', 'NN'),\n",
       " ('player', 'NN'),\n",
       " ('take', 'VB'),\n",
       " ('role', 'NN'),\n",
       " ('adventurer', 'NN'),\n",
       " ('making', 'VBG'),\n",
       " ('choice', 'NN'),\n",
       " ('shape', 'NN'),\n",
       " ('narrative', 'JJ'),\n",
       " ('interact', 'NN'),\n",
       " ('world', 'NN'),\n",
       " ('created', 'VBD'),\n",
       " ('dungeon', 'JJ'),\n",
       " ('master', 'NN'),\n",
       " ('dm', 'NN'),\n",
       " ('dm', 'NN'),\n",
       " ('act', 'NN'),\n",
       " ('storyteller', 'NN'),\n",
       " ('referee', 'JJ'),\n",
       " ('narrator', 'NN'),\n",
       " ('describing', 'VBG'),\n",
       " ('environment', 'NN'),\n",
       " ('controlling', 'VBG'),\n",
       " ('nonplayer', 'JJ'),\n",
       " ('character', 'NN'),\n",
       " ('npc', 'NN'),\n",
       " ('monster', 'NN')]"
      ]
     },
     "execution_count": 26,
     "metadata": {},
     "output_type": "execute_result"
    }
   ],
   "source": [
    "nltk.download('averaged_perceptron_tagger_eng')\n",
    "pos_data = nltk.pos_tag(lemma_data)\n",
    "pos_data"
   ]
  },
  {
   "cell_type": "code",
   "execution_count": 30,
   "metadata": {},
   "outputs": [
    {
     "name": "stderr",
     "output_type": "stream",
     "text": [
      "ERROR: You must give at least one requirement to install (see \"pip help install\")\n"
     ]
    },
    {
     "name": "stdout",
     "output_type": "stream",
     "text": [
      "Requirement already satisfied: svgling in c:\\users\\arkan\\appdata\\local\\programs\\python\\python39\\lib\\site-packages (0.5.0)\n",
      "Requirement already satisfied: svgwrite in c:\\users\\arkan\\appdata\\local\\programs\\python\\python39\\lib\\site-packages (from svgling) (1.4.3)\n"
     ]
    },
    {
     "name": "stderr",
     "output_type": "stream",
     "text": [
      "[nltk_data] Downloading package maxent_ne_chunker_tab to\n",
      "[nltk_data]     C:\\Users\\arkan\\AppData\\Roaming\\nltk_data...\n",
      "[nltk_data]   Package maxent_ne_chunker_tab is already up-to-date!\n",
      "[nltk_data] Downloading package words to\n",
      "[nltk_data]     C:\\Users\\arkan\\AppData\\Roaming\\nltk_data...\n",
      "[nltk_data]   Unzipping corpora\\words.zip.\n"
     ]
    },
    {
     "data": {
      "image/svg+xml": [
       "<svg baseProfile=\"full\" height=\"120px\" preserveAspectRatio=\"xMidYMid meet\" style=\"font-family: times, serif; font-weight: normal; font-style: normal; font-size: 16px\" version=\"1.1\" viewBox=\"0,0,2688.0,120.0\" width=\"2688px\" xmlns=\"http://www.w3.org/2000/svg\" xmlns:ev=\"http://www.w3.org/2001/xml-events\" xmlns:xlink=\"http://www.w3.org/1999/xlink\"><defs /><svg width=\"100%\" x=\"0\" y=\"0px\"><defs /><text text-anchor=\"middle\" x=\"50%\" y=\"16px\">S</text></svg><svg width=\"2.67857%\" x=\"0%\" y=\"48px\"><defs /><svg width=\"100%\" x=\"0\" y=\"0px\"><defs /><text text-anchor=\"middle\" x=\"50%\" y=\"16px\">dungeon</text></svg><svg width=\"100%\" x=\"0%\" y=\"48px\"><defs /><svg width=\"100%\" x=\"0\" y=\"0px\"><defs /><text text-anchor=\"middle\" x=\"50%\" y=\"16px\">NN</text></svg></svg><line stroke=\"black\" x1=\"50%\" x2=\"50%\" y1=\"20px\" y2=\"48px\" /></svg><line stroke=\"black\" x1=\"50%\" x2=\"1.33929%\" y1=\"20px\" y2=\"48px\" /><svg width=\"2.38095%\" x=\"2.67857%\" y=\"48px\"><defs /><svg width=\"100%\" x=\"0\" y=\"0px\"><defs /><text text-anchor=\"middle\" x=\"50%\" y=\"16px\">dragon</text></svg><svg width=\"100%\" x=\"0%\" y=\"48px\"><defs /><svg width=\"100%\" x=\"0\" y=\"0px\"><defs /><text text-anchor=\"middle\" x=\"50%\" y=\"16px\">NN</text></svg></svg><line stroke=\"black\" x1=\"50%\" x2=\"50%\" y1=\"20px\" y2=\"48px\" /></svg><line stroke=\"black\" x1=\"50%\" x2=\"3.86905%\" y1=\"20px\" y2=\"48px\" /><svg width=\"2.97619%\" x=\"5.05952%\" y=\"48px\"><defs /><svg width=\"100%\" x=\"0\" y=\"0px\"><defs /><text text-anchor=\"middle\" x=\"50%\" y=\"16px\">tabletop</text></svg><svg width=\"100%\" x=\"0%\" y=\"48px\"><defs /><svg width=\"100%\" x=\"0\" y=\"0px\"><defs /><text text-anchor=\"middle\" x=\"50%\" y=\"16px\">NN</text></svg></svg><line stroke=\"black\" x1=\"50%\" x2=\"50%\" y1=\"20px\" y2=\"48px\" /></svg><line stroke=\"black\" x1=\"50%\" x2=\"6.54762%\" y1=\"20px\" y2=\"48px\" /><svg width=\"3.86905%\" x=\"8.03571%\" y=\"48px\"><defs /><svg width=\"100%\" x=\"0\" y=\"0px\"><defs /><text text-anchor=\"middle\" x=\"50%\" y=\"16px\">roleplaying</text></svg><svg width=\"100%\" x=\"0%\" y=\"48px\"><defs /><svg width=\"100%\" x=\"0\" y=\"0px\"><defs /><text text-anchor=\"middle\" x=\"50%\" y=\"16px\">VBG</text></svg></svg><line stroke=\"black\" x1=\"50%\" x2=\"50%\" y1=\"20px\" y2=\"48px\" /></svg><line stroke=\"black\" x1=\"50%\" x2=\"9.97024%\" y1=\"20px\" y2=\"48px\" /><svg width=\"1.78571%\" x=\"11.9048%\" y=\"48px\"><defs /><svg width=\"100%\" x=\"0\" y=\"0px\"><defs /><text text-anchor=\"middle\" x=\"50%\" y=\"16px\">game</text></svg><svg width=\"100%\" x=\"0%\" y=\"48px\"><defs /><svg width=\"100%\" x=\"0\" y=\"0px\"><defs /><text text-anchor=\"middle\" x=\"50%\" y=\"16px\">NN</text></svg></svg><line stroke=\"black\" x1=\"50%\" x2=\"50%\" y1=\"20px\" y2=\"48px\" /></svg><line stroke=\"black\" x1=\"50%\" x2=\"12.7976%\" y1=\"20px\" y2=\"48px\" /><svg width=\"2.08333%\" x=\"13.6905%\" y=\"48px\"><defs /><svg width=\"100%\" x=\"0\" y=\"0px\"><defs /><text text-anchor=\"middle\" x=\"50%\" y=\"16px\">ttrpg</text></svg><svg width=\"100%\" x=\"0%\" y=\"48px\"><defs /><svg width=\"100%\" x=\"0\" y=\"0px\"><defs /><text text-anchor=\"middle\" x=\"50%\" y=\"16px\">NN</text></svg></svg><line stroke=\"black\" x1=\"50%\" x2=\"50%\" y1=\"20px\" y2=\"48px\" /></svg><line stroke=\"black\" x1=\"50%\" x2=\"14.7321%\" y1=\"20px\" y2=\"48px\" /><svg width=\"2.38095%\" x=\"15.7738%\" y=\"48px\"><defs /><svg width=\"100%\" x=\"0\" y=\"0px\"><defs /><text text-anchor=\"middle\" x=\"50%\" y=\"16px\">player</text></svg><svg width=\"100%\" x=\"0%\" y=\"48px\"><defs /><svg width=\"100%\" x=\"0\" y=\"0px\"><defs /><text text-anchor=\"middle\" x=\"50%\" y=\"16px\">NN</text></svg></svg><line stroke=\"black\" x1=\"50%\" x2=\"50%\" y1=\"20px\" y2=\"48px\" /></svg><line stroke=\"black\" x1=\"50%\" x2=\"16.9643%\" y1=\"20px\" y2=\"48px\" /><svg width=\"5.05952%\" x=\"18.1548%\" y=\"48px\"><defs /><svg width=\"100%\" x=\"0\" y=\"0px\"><defs /><text text-anchor=\"middle\" x=\"50%\" y=\"16px\">collaboratively</text></svg><svg width=\"100%\" x=\"0%\" y=\"48px\"><defs /><svg width=\"100%\" x=\"0\" y=\"0px\"><defs /><text text-anchor=\"middle\" x=\"50%\" y=\"16px\">RB</text></svg></svg><line stroke=\"black\" x1=\"50%\" x2=\"50%\" y1=\"20px\" y2=\"48px\" /></svg><line stroke=\"black\" x1=\"50%\" x2=\"20.6845%\" y1=\"20px\" y2=\"48px\" /><svg width=\"2.38095%\" x=\"23.2143%\" y=\"48px\"><defs /><svg width=\"100%\" x=\"0\" y=\"0px\"><defs /><text text-anchor=\"middle\" x=\"50%\" y=\"16px\">create</text></svg><svg width=\"100%\" x=\"0%\" y=\"48px\"><defs /><svg width=\"100%\" x=\"0\" y=\"0px\"><defs /><text text-anchor=\"middle\" x=\"50%\" y=\"16px\">VBP</text></svg></svg><line stroke=\"black\" x1=\"50%\" x2=\"50%\" y1=\"20px\" y2=\"48px\" /></svg><line stroke=\"black\" x1=\"50%\" x2=\"24.4048%\" y1=\"20px\" y2=\"48px\" /><svg width=\"1.78571%\" x=\"25.5952%\" y=\"48px\"><defs /><svg width=\"100%\" x=\"0\" y=\"0px\"><defs /><text text-anchor=\"middle\" x=\"50%\" y=\"16px\">tell</text></svg><svg width=\"100%\" x=\"0%\" y=\"48px\"><defs /><svg width=\"100%\" x=\"0\" y=\"0px\"><defs /><text text-anchor=\"middle\" x=\"50%\" y=\"16px\">JJ</text></svg></svg><line stroke=\"black\" x1=\"50%\" x2=\"50%\" y1=\"20px\" y2=\"48px\" /></svg><line stroke=\"black\" x1=\"50%\" x2=\"26.4881%\" y1=\"20px\" y2=\"48px\" /><svg width=\"2.67857%\" x=\"27.381%\" y=\"48px\"><defs /><svg width=\"100%\" x=\"0\" y=\"0px\"><defs /><text text-anchor=\"middle\" x=\"50%\" y=\"16px\">fantasy</text></svg><svg width=\"100%\" x=\"0%\" y=\"48px\"><defs /><svg width=\"100%\" x=\"0\" y=\"0px\"><defs /><text text-anchor=\"middle\" x=\"50%\" y=\"16px\">JJ</text></svg></svg><line stroke=\"black\" x1=\"50%\" x2=\"50%\" y1=\"20px\" y2=\"48px\" /></svg><line stroke=\"black\" x1=\"50%\" x2=\"28.7202%\" y1=\"20px\" y2=\"48px\" /><svg width=\"2.08333%\" x=\"30.0595%\" y=\"48px\"><defs /><svg width=\"100%\" x=\"0\" y=\"0px\"><defs /><text text-anchor=\"middle\" x=\"50%\" y=\"16px\">story</text></svg><svg width=\"100%\" x=\"0%\" y=\"48px\"><defs /><svg width=\"100%\" x=\"0\" y=\"0px\"><defs /><text text-anchor=\"middle\" x=\"50%\" y=\"16px\">NN</text></svg></svg><line stroke=\"black\" x1=\"50%\" x2=\"50%\" y1=\"20px\" y2=\"48px\" /></svg><line stroke=\"black\" x1=\"50%\" x2=\"31.1012%\" y1=\"20px\" y2=\"48px\" /><svg width=\"2.38095%\" x=\"32.1429%\" y=\"48px\"><defs /><svg width=\"100%\" x=\"0\" y=\"0px\"><defs /><text text-anchor=\"middle\" x=\"50%\" y=\"16px\">player</text></svg><svg width=\"100%\" x=\"0%\" y=\"48px\"><defs /><svg width=\"100%\" x=\"0\" y=\"0px\"><defs /><text text-anchor=\"middle\" x=\"50%\" y=\"16px\">NN</text></svg></svg><line stroke=\"black\" x1=\"50%\" x2=\"50%\" y1=\"20px\" y2=\"48px\" /></svg><line stroke=\"black\" x1=\"50%\" x2=\"33.3333%\" y1=\"20px\" y2=\"48px\" /><svg width=\"1.78571%\" x=\"34.5238%\" y=\"48px\"><defs /><svg width=\"100%\" x=\"0\" y=\"0px\"><defs /><text text-anchor=\"middle\" x=\"50%\" y=\"16px\">take</text></svg><svg width=\"100%\" x=\"0%\" y=\"48px\"><defs /><svg width=\"100%\" x=\"0\" y=\"0px\"><defs /><text text-anchor=\"middle\" x=\"50%\" y=\"16px\">VB</text></svg></svg><line stroke=\"black\" x1=\"50%\" x2=\"50%\" y1=\"20px\" y2=\"48px\" /></svg><line stroke=\"black\" x1=\"50%\" x2=\"35.4167%\" y1=\"20px\" y2=\"48px\" /><svg width=\"1.78571%\" x=\"36.3095%\" y=\"48px\"><defs /><svg width=\"100%\" x=\"0\" y=\"0px\"><defs /><text text-anchor=\"middle\" x=\"50%\" y=\"16px\">role</text></svg><svg width=\"100%\" x=\"0%\" y=\"48px\"><defs /><svg width=\"100%\" x=\"0\" y=\"0px\"><defs /><text text-anchor=\"middle\" x=\"50%\" y=\"16px\">NN</text></svg></svg><line stroke=\"black\" x1=\"50%\" x2=\"50%\" y1=\"20px\" y2=\"48px\" /></svg><line stroke=\"black\" x1=\"50%\" x2=\"37.2024%\" y1=\"20px\" y2=\"48px\" /><svg width=\"3.57143%\" x=\"38.0952%\" y=\"48px\"><defs /><svg width=\"100%\" x=\"0\" y=\"0px\"><defs /><text text-anchor=\"middle\" x=\"50%\" y=\"16px\">adventurer</text></svg><svg width=\"100%\" x=\"0%\" y=\"48px\"><defs /><svg width=\"100%\" x=\"0\" y=\"0px\"><defs /><text text-anchor=\"middle\" x=\"50%\" y=\"16px\">NN</text></svg></svg><line stroke=\"black\" x1=\"50%\" x2=\"50%\" y1=\"20px\" y2=\"48px\" /></svg><line stroke=\"black\" x1=\"50%\" x2=\"39.881%\" y1=\"20px\" y2=\"48px\" /><svg width=\"2.38095%\" x=\"41.6667%\" y=\"48px\"><defs /><svg width=\"100%\" x=\"0\" y=\"0px\"><defs /><text text-anchor=\"middle\" x=\"50%\" y=\"16px\">making</text></svg><svg width=\"100%\" x=\"0%\" y=\"48px\"><defs /><svg width=\"100%\" x=\"0\" y=\"0px\"><defs /><text text-anchor=\"middle\" x=\"50%\" y=\"16px\">VBG</text></svg></svg><line stroke=\"black\" x1=\"50%\" x2=\"50%\" y1=\"20px\" y2=\"48px\" /></svg><line stroke=\"black\" x1=\"50%\" x2=\"42.8571%\" y1=\"20px\" y2=\"48px\" /><svg width=\"2.38095%\" x=\"44.0476%\" y=\"48px\"><defs /><svg width=\"100%\" x=\"0\" y=\"0px\"><defs /><text text-anchor=\"middle\" x=\"50%\" y=\"16px\">choice</text></svg><svg width=\"100%\" x=\"0%\" y=\"48px\"><defs /><svg width=\"100%\" x=\"0\" y=\"0px\"><defs /><text text-anchor=\"middle\" x=\"50%\" y=\"16px\">NN</text></svg></svg><line stroke=\"black\" x1=\"50%\" x2=\"50%\" y1=\"20px\" y2=\"48px\" /></svg><line stroke=\"black\" x1=\"50%\" x2=\"45.2381%\" y1=\"20px\" y2=\"48px\" /><svg width=\"2.08333%\" x=\"46.4286%\" y=\"48px\"><defs /><svg width=\"100%\" x=\"0\" y=\"0px\"><defs /><text text-anchor=\"middle\" x=\"50%\" y=\"16px\">shape</text></svg><svg width=\"100%\" x=\"0%\" y=\"48px\"><defs /><svg width=\"100%\" x=\"0\" y=\"0px\"><defs /><text text-anchor=\"middle\" x=\"50%\" y=\"16px\">NN</text></svg></svg><line stroke=\"black\" x1=\"50%\" x2=\"50%\" y1=\"20px\" y2=\"48px\" /></svg><line stroke=\"black\" x1=\"50%\" x2=\"47.4702%\" y1=\"20px\" y2=\"48px\" /><svg width=\"3.27381%\" x=\"48.5119%\" y=\"48px\"><defs /><svg width=\"100%\" x=\"0\" y=\"0px\"><defs /><text text-anchor=\"middle\" x=\"50%\" y=\"16px\">narrative</text></svg><svg width=\"100%\" x=\"0%\" y=\"48px\"><defs /><svg width=\"100%\" x=\"0\" y=\"0px\"><defs /><text text-anchor=\"middle\" x=\"50%\" y=\"16px\">JJ</text></svg></svg><line stroke=\"black\" x1=\"50%\" x2=\"50%\" y1=\"20px\" y2=\"48px\" /></svg><line stroke=\"black\" x1=\"50%\" x2=\"50.1488%\" y1=\"20px\" y2=\"48px\" /><svg width=\"2.97619%\" x=\"51.7857%\" y=\"48px\"><defs /><svg width=\"100%\" x=\"0\" y=\"0px\"><defs /><text text-anchor=\"middle\" x=\"50%\" y=\"16px\">interact</text></svg><svg width=\"100%\" x=\"0%\" y=\"48px\"><defs /><svg width=\"100%\" x=\"0\" y=\"0px\"><defs /><text text-anchor=\"middle\" x=\"50%\" y=\"16px\">NN</text></svg></svg><line stroke=\"black\" x1=\"50%\" x2=\"50%\" y1=\"20px\" y2=\"48px\" /></svg><line stroke=\"black\" x1=\"50%\" x2=\"53.2738%\" y1=\"20px\" y2=\"48px\" /><svg width=\"2.08333%\" x=\"54.7619%\" y=\"48px\"><defs /><svg width=\"100%\" x=\"0\" y=\"0px\"><defs /><text text-anchor=\"middle\" x=\"50%\" y=\"16px\">world</text></svg><svg width=\"100%\" x=\"0%\" y=\"48px\"><defs /><svg width=\"100%\" x=\"0\" y=\"0px\"><defs /><text text-anchor=\"middle\" x=\"50%\" y=\"16px\">NN</text></svg></svg><line stroke=\"black\" x1=\"50%\" x2=\"50%\" y1=\"20px\" y2=\"48px\" /></svg><line stroke=\"black\" x1=\"50%\" x2=\"55.8036%\" y1=\"20px\" y2=\"48px\" /><svg width=\"2.67857%\" x=\"56.8452%\" y=\"48px\"><defs /><svg width=\"100%\" x=\"0\" y=\"0px\"><defs /><text text-anchor=\"middle\" x=\"50%\" y=\"16px\">created</text></svg><svg width=\"100%\" x=\"0%\" y=\"48px\"><defs /><svg width=\"100%\" x=\"0\" y=\"0px\"><defs /><text text-anchor=\"middle\" x=\"50%\" y=\"16px\">VBD</text></svg></svg><line stroke=\"black\" x1=\"50%\" x2=\"50%\" y1=\"20px\" y2=\"48px\" /></svg><line stroke=\"black\" x1=\"50%\" x2=\"58.1845%\" y1=\"20px\" y2=\"48px\" /><svg width=\"2.67857%\" x=\"59.5238%\" y=\"48px\"><defs /><svg width=\"100%\" x=\"0\" y=\"0px\"><defs /><text text-anchor=\"middle\" x=\"50%\" y=\"16px\">dungeon</text></svg><svg width=\"100%\" x=\"0%\" y=\"48px\"><defs /><svg width=\"100%\" x=\"0\" y=\"0px\"><defs /><text text-anchor=\"middle\" x=\"50%\" y=\"16px\">JJ</text></svg></svg><line stroke=\"black\" x1=\"50%\" x2=\"50%\" y1=\"20px\" y2=\"48px\" /></svg><line stroke=\"black\" x1=\"50%\" x2=\"60.8631%\" y1=\"20px\" y2=\"48px\" /><svg width=\"2.38095%\" x=\"62.2024%\" y=\"48px\"><defs /><svg width=\"100%\" x=\"0\" y=\"0px\"><defs /><text text-anchor=\"middle\" x=\"50%\" y=\"16px\">master</text></svg><svg width=\"100%\" x=\"0%\" y=\"48px\"><defs /><svg width=\"100%\" x=\"0\" y=\"0px\"><defs /><text text-anchor=\"middle\" x=\"50%\" y=\"16px\">NN</text></svg></svg><line stroke=\"black\" x1=\"50%\" x2=\"50%\" y1=\"20px\" y2=\"48px\" /></svg><line stroke=\"black\" x1=\"50%\" x2=\"63.3929%\" y1=\"20px\" y2=\"48px\" /><svg width=\"1.19048%\" x=\"64.5833%\" y=\"48px\"><defs /><svg width=\"100%\" x=\"0\" y=\"0px\"><defs /><text text-anchor=\"middle\" x=\"50%\" y=\"16px\">dm</text></svg><svg width=\"100%\" x=\"0%\" y=\"48px\"><defs /><svg width=\"100%\" x=\"0\" y=\"0px\"><defs /><text text-anchor=\"middle\" x=\"50%\" y=\"16px\">NN</text></svg></svg><line stroke=\"black\" x1=\"50%\" x2=\"50%\" y1=\"20px\" y2=\"48px\" /></svg><line stroke=\"black\" x1=\"50%\" x2=\"65.1786%\" y1=\"20px\" y2=\"48px\" /><svg width=\"1.19048%\" x=\"65.7738%\" y=\"48px\"><defs /><svg width=\"100%\" x=\"0\" y=\"0px\"><defs /><text text-anchor=\"middle\" x=\"50%\" y=\"16px\">dm</text></svg><svg width=\"100%\" x=\"0%\" y=\"48px\"><defs /><svg width=\"100%\" x=\"0\" y=\"0px\"><defs /><text text-anchor=\"middle\" x=\"50%\" y=\"16px\">NN</text></svg></svg><line stroke=\"black\" x1=\"50%\" x2=\"50%\" y1=\"20px\" y2=\"48px\" /></svg><line stroke=\"black\" x1=\"50%\" x2=\"66.369%\" y1=\"20px\" y2=\"48px\" /><svg width=\"1.4881%\" x=\"66.9643%\" y=\"48px\"><defs /><svg width=\"100%\" x=\"0\" y=\"0px\"><defs /><text text-anchor=\"middle\" x=\"50%\" y=\"16px\">act</text></svg><svg width=\"100%\" x=\"0%\" y=\"48px\"><defs /><svg width=\"100%\" x=\"0\" y=\"0px\"><defs /><text text-anchor=\"middle\" x=\"50%\" y=\"16px\">NN</text></svg></svg><line stroke=\"black\" x1=\"50%\" x2=\"50%\" y1=\"20px\" y2=\"48px\" /></svg><line stroke=\"black\" x1=\"50%\" x2=\"67.7083%\" y1=\"20px\" y2=\"48px\" /><svg width=\"3.86905%\" x=\"68.4524%\" y=\"48px\"><defs /><svg width=\"100%\" x=\"0\" y=\"0px\"><defs /><text text-anchor=\"middle\" x=\"50%\" y=\"16px\">storyteller</text></svg><svg width=\"100%\" x=\"0%\" y=\"48px\"><defs /><svg width=\"100%\" x=\"0\" y=\"0px\"><defs /><text text-anchor=\"middle\" x=\"50%\" y=\"16px\">NN</text></svg></svg><line stroke=\"black\" x1=\"50%\" x2=\"50%\" y1=\"20px\" y2=\"48px\" /></svg><line stroke=\"black\" x1=\"50%\" x2=\"70.3869%\" y1=\"20px\" y2=\"48px\" /><svg width=\"2.67857%\" x=\"72.3214%\" y=\"48px\"><defs /><svg width=\"100%\" x=\"0\" y=\"0px\"><defs /><text text-anchor=\"middle\" x=\"50%\" y=\"16px\">referee</text></svg><svg width=\"100%\" x=\"0%\" y=\"48px\"><defs /><svg width=\"100%\" x=\"0\" y=\"0px\"><defs /><text text-anchor=\"middle\" x=\"50%\" y=\"16px\">JJ</text></svg></svg><line stroke=\"black\" x1=\"50%\" x2=\"50%\" y1=\"20px\" y2=\"48px\" /></svg><line stroke=\"black\" x1=\"50%\" x2=\"73.6607%\" y1=\"20px\" y2=\"48px\" /><svg width=\"2.97619%\" x=\"75%\" y=\"48px\"><defs /><svg width=\"100%\" x=\"0\" y=\"0px\"><defs /><text text-anchor=\"middle\" x=\"50%\" y=\"16px\">narrator</text></svg><svg width=\"100%\" x=\"0%\" y=\"48px\"><defs /><svg width=\"100%\" x=\"0\" y=\"0px\"><defs /><text text-anchor=\"middle\" x=\"50%\" y=\"16px\">NN</text></svg></svg><line stroke=\"black\" x1=\"50%\" x2=\"50%\" y1=\"20px\" y2=\"48px\" /></svg><line stroke=\"black\" x1=\"50%\" x2=\"76.4881%\" y1=\"20px\" y2=\"48px\" /><svg width=\"3.57143%\" x=\"77.9762%\" y=\"48px\"><defs /><svg width=\"100%\" x=\"0\" y=\"0px\"><defs /><text text-anchor=\"middle\" x=\"50%\" y=\"16px\">describing</text></svg><svg width=\"100%\" x=\"0%\" y=\"48px\"><defs /><svg width=\"100%\" x=\"0\" y=\"0px\"><defs /><text text-anchor=\"middle\" x=\"50%\" y=\"16px\">VBG</text></svg></svg><line stroke=\"black\" x1=\"50%\" x2=\"50%\" y1=\"20px\" y2=\"48px\" /></svg><line stroke=\"black\" x1=\"50%\" x2=\"79.7619%\" y1=\"20px\" y2=\"48px\" /><svg width=\"3.86905%\" x=\"81.5476%\" y=\"48px\"><defs /><svg width=\"100%\" x=\"0\" y=\"0px\"><defs /><text text-anchor=\"middle\" x=\"50%\" y=\"16px\">environment</text></svg><svg width=\"100%\" x=\"0%\" y=\"48px\"><defs /><svg width=\"100%\" x=\"0\" y=\"0px\"><defs /><text text-anchor=\"middle\" x=\"50%\" y=\"16px\">NN</text></svg></svg><line stroke=\"black\" x1=\"50%\" x2=\"50%\" y1=\"20px\" y2=\"48px\" /></svg><line stroke=\"black\" x1=\"50%\" x2=\"83.4821%\" y1=\"20px\" y2=\"48px\" /><svg width=\"3.86905%\" x=\"85.4167%\" y=\"48px\"><defs /><svg width=\"100%\" x=\"0\" y=\"0px\"><defs /><text text-anchor=\"middle\" x=\"50%\" y=\"16px\">controlling</text></svg><svg width=\"100%\" x=\"0%\" y=\"48px\"><defs /><svg width=\"100%\" x=\"0\" y=\"0px\"><defs /><text text-anchor=\"middle\" x=\"50%\" y=\"16px\">VBG</text></svg></svg><line stroke=\"black\" x1=\"50%\" x2=\"50%\" y1=\"20px\" y2=\"48px\" /></svg><line stroke=\"black\" x1=\"50%\" x2=\"87.3512%\" y1=\"20px\" y2=\"48px\" /><svg width=\"3.27381%\" x=\"89.2857%\" y=\"48px\"><defs /><svg width=\"100%\" x=\"0\" y=\"0px\"><defs /><text text-anchor=\"middle\" x=\"50%\" y=\"16px\">nonplayer</text></svg><svg width=\"100%\" x=\"0%\" y=\"48px\"><defs /><svg width=\"100%\" x=\"0\" y=\"0px\"><defs /><text text-anchor=\"middle\" x=\"50%\" y=\"16px\">JJ</text></svg></svg><line stroke=\"black\" x1=\"50%\" x2=\"50%\" y1=\"20px\" y2=\"48px\" /></svg><line stroke=\"black\" x1=\"50%\" x2=\"90.9226%\" y1=\"20px\" y2=\"48px\" /><svg width=\"3.27381%\" x=\"92.5595%\" y=\"48px\"><defs /><svg width=\"100%\" x=\"0\" y=\"0px\"><defs /><text text-anchor=\"middle\" x=\"50%\" y=\"16px\">character</text></svg><svg width=\"100%\" x=\"0%\" y=\"48px\"><defs /><svg width=\"100%\" x=\"0\" y=\"0px\"><defs /><text text-anchor=\"middle\" x=\"50%\" y=\"16px\">NN</text></svg></svg><line stroke=\"black\" x1=\"50%\" x2=\"50%\" y1=\"20px\" y2=\"48px\" /></svg><line stroke=\"black\" x1=\"50%\" x2=\"94.1964%\" y1=\"20px\" y2=\"48px\" /><svg width=\"1.4881%\" x=\"95.8333%\" y=\"48px\"><defs /><svg width=\"100%\" x=\"0\" y=\"0px\"><defs /><text text-anchor=\"middle\" x=\"50%\" y=\"16px\">npc</text></svg><svg width=\"100%\" x=\"0%\" y=\"48px\"><defs /><svg width=\"100%\" x=\"0\" y=\"0px\"><defs /><text text-anchor=\"middle\" x=\"50%\" y=\"16px\">NN</text></svg></svg><line stroke=\"black\" x1=\"50%\" x2=\"50%\" y1=\"20px\" y2=\"48px\" /></svg><line stroke=\"black\" x1=\"50%\" x2=\"96.5774%\" y1=\"20px\" y2=\"48px\" /><svg width=\"2.67857%\" x=\"97.3214%\" y=\"48px\"><defs /><svg width=\"100%\" x=\"0\" y=\"0px\"><defs /><text text-anchor=\"middle\" x=\"50%\" y=\"16px\">monster</text></svg><svg width=\"100%\" x=\"0%\" y=\"48px\"><defs /><svg width=\"100%\" x=\"0\" y=\"0px\"><defs /><text text-anchor=\"middle\" x=\"50%\" y=\"16px\">NN</text></svg></svg><line stroke=\"black\" x1=\"50%\" x2=\"50%\" y1=\"20px\" y2=\"48px\" /></svg><line stroke=\"black\" x1=\"50%\" x2=\"98.6607%\" y1=\"20px\" y2=\"48px\" /></svg>"
      ],
      "text/plain": [
       "Tree('S', [('dungeon', 'NN'), ('dragon', 'NN'), ('tabletop', 'NN'), ('roleplaying', 'VBG'), ('game', 'NN'), ('ttrpg', 'NN'), ('player', 'NN'), ('collaboratively', 'RB'), ('create', 'VBP'), ('tell', 'JJ'), ('fantasy', 'JJ'), ('story', 'NN'), ('player', 'NN'), ('take', 'VB'), ('role', 'NN'), ('adventurer', 'NN'), ('making', 'VBG'), ('choice', 'NN'), ('shape', 'NN'), ('narrative', 'JJ'), ('interact', 'NN'), ('world', 'NN'), ('created', 'VBD'), ('dungeon', 'JJ'), ('master', 'NN'), ('dm', 'NN'), ('dm', 'NN'), ('act', 'NN'), ('storyteller', 'NN'), ('referee', 'JJ'), ('narrator', 'NN'), ('describing', 'VBG'), ('environment', 'NN'), ('controlling', 'VBG'), ('nonplayer', 'JJ'), ('character', 'NN'), ('npc', 'NN'), ('monster', 'NN')])"
      ]
     },
     "execution_count": 30,
     "metadata": {},
     "output_type": "execute_result"
    }
   ],
   "source": [
    "!pip install --upgrade\n",
    "!pip install svgling\n",
    "\n",
    "import nltk\n",
    "nltk.download('maxent_ne_chunker_tab')\n",
    "nltk.download('words')\n",
    "\n",
    "from nltk import ne_chunk\n",
    "\n",
    "tagged_tokens = ne_chunk(pos_data)\n",
    "tagged_tokens"
   ]
  }
 ],
 "metadata": {
  "kernelspec": {
   "display_name": "Python 3",
   "language": "python",
   "name": "python3"
  },
  "language_info": {
   "codemirror_mode": {
    "name": "ipython",
    "version": 3
   },
   "file_extension": ".py",
   "mimetype": "text/x-python",
   "name": "python",
   "nbconvert_exporter": "python",
   "pygments_lexer": "ipython3",
   "version": "3.9.0"
  }
 },
 "nbformat": 4,
 "nbformat_minor": 2
}
